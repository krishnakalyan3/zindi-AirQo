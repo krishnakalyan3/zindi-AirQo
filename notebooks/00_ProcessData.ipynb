{
 "cells": [
  {
   "cell_type": "code",
   "execution_count": 78,
   "metadata": {},
   "outputs": [],
   "source": [
    "%matplotlib inline\n",
    "%reload_ext autoreload\n",
    "%autoreload 2"
   ]
  },
  {
   "cell_type": "code",
   "execution_count": 79,
   "metadata": {},
   "outputs": [],
   "source": [
    "import pandas as pd \n",
    "import numpy as np \n",
    "from tqdm import tqdm\n",
    "import math\n",
    "import gc"
   ]
  },
  {
   "cell_type": "code",
   "execution_count": 80,
   "metadata": {},
   "outputs": [],
   "source": [
    "ROOT = \"/Users/kkalyan/github/airQo/\"\n",
    "train = pd.read_csv(ROOT+ \"data/Train.csv\")\n",
    "test = pd.read_csv(ROOT+ \"data/Test.csv\")"
   ]
  },
  {
   "cell_type": "code",
   "execution_count": 81,
   "metadata": {},
   "outputs": [],
   "source": [
    "def replace_nan(x):\n",
    "    if x==\" \":\n",
    "        return -999\n",
    "        #return np.nan\n",
    "    else :\n",
    "        return float(x)\n",
    "\n",
    "features=[\"temp\",\"precip\",\"rel_humidity\",\"wind_dir\",\"wind_spd\",\"atmos_press\"]\n",
    "for feature in features : \n",
    "    train[feature]=train[feature].apply(lambda x: [ replace_nan(X) for X in x.replace(\"nan\",\" \").split(\",\")])\n",
    "    test[feature]=test[feature].apply(lambda x: [ replace_nan(X)  for X in x.replace(\"nan\",\" \").split(\",\")])   "
   ]
  },
  {
   "cell_type": "code",
   "execution_count": 82,
   "metadata": {},
   "outputs": [],
   "source": [
    "def aggregate_features(x,col_name):\n",
    "    x[\"max_\"+col_name]=x[col_name].apply(np.max)\n",
    "    x[\"min_\"+col_name]=x[col_name].apply(np.min)\n",
    "    x[\"mean_\"+col_name]=x[col_name].apply(np.mean)\n",
    "    x[\"std_\"+col_name]=x[col_name].apply(np.std)\n",
    "    x[\"var_\"+col_name]=x[col_name].apply(np.var)\n",
    "    x[\"median_\"+col_name]=x[col_name].apply(np.median)\n",
    "    x[\"ptp_\"+col_name]=x[col_name].apply(np.ptp)\n",
    "    return x  \n",
    "def remove_nan_values(x):\n",
    "    return [e for e in x if not math.isnan(e)]"
   ]
  },
  {
   "cell_type": "code",
   "execution_count": 83,
   "metadata": {},
   "outputs": [
    {
     "data": {
      "text/plain": [
       "['ID',\n",
       " 'location',\n",
       " 'temp',\n",
       " 'precip',\n",
       " 'rel_humidity',\n",
       " 'wind_dir',\n",
       " 'wind_spd',\n",
       " 'atmos_press',\n",
       " 'target']"
      ]
     },
     "execution_count": 83,
     "metadata": {},
     "output_type": "execute_result"
    }
   ],
   "source": [
    "data=pd.concat([train,test],sort=False).reset_index(drop=True)\n",
    "data.columns.tolist()"
   ]
  },
  {
   "cell_type": "code",
   "execution_count": 84,
   "metadata": {},
   "outputs": [],
   "source": [
    "for x in range(121):\n",
    "    data[\"newtemp\"+ str(x)] = data.temp.str[x]\n",
    "    data[\"newprecip\"+ str(x)] = data.precip.str[x]\n",
    "    data[\"newrel_humidity\"+ str(x)] = data.rel_humidity.str[x]\n",
    "    data[\"newwind_dir\"+ str(x)] = data.wind_dir.str[x]\n",
    "    data[\"windspeed\"+ str(x)] = data.wind_spd.str[x]\n",
    "    data[\"atmospherepressure\"+ str(x)] = data.atmos_press.str[x]"
   ]
  },
  {
   "cell_type": "code",
   "execution_count": 85,
   "metadata": {},
   "outputs": [
    {
     "data": {
      "text/plain": [
       "Index(['ID', 'location', 'temp', 'precip', 'rel_humidity', 'wind_dir',\n",
       "       'wind_spd', 'atmos_press', 'target', 'newtemp0',\n",
       "       ...\n",
       "       'newrel_humidity119', 'newwind_dir119', 'windspeed119',\n",
       "       'atmospherepressure119', 'newtemp120', 'newprecip120',\n",
       "       'newrel_humidity120', 'newwind_dir120', 'windspeed120',\n",
       "       'atmospherepressure120'],\n",
       "      dtype='object', length=735)"
      ]
     },
     "execution_count": 85,
     "metadata": {},
     "output_type": "execute_result"
    }
   ],
   "source": [
    "data.columns"
   ]
  },
  {
   "cell_type": "code",
   "execution_count": 86,
   "metadata": {},
   "outputs": [
    {
     "name": "stderr",
     "output_type": "stream",
     "text": [
      "100%|██████████| 6/6 [00:06<00:00,  1.07s/it]\n"
     ]
    }
   ],
   "source": [
    "for col_name in tqdm(features):\n",
    "    data[col_name]=data[col_name].apply(remove_nan_values)"
   ]
  },
  {
   "cell_type": "code",
   "execution_count": 87,
   "metadata": {},
   "outputs": [
    {
     "name": "stderr",
     "output_type": "stream",
     "text": [
      "100%|██████████| 6/6 [00:56<00:00,  9.48s/it]\n"
     ]
    }
   ],
   "source": [
    "for col_name in tqdm(features):\n",
    "    data=aggregate_features(data,col_name)"
   ]
  },
  {
   "cell_type": "code",
   "execution_count": 88,
   "metadata": {},
   "outputs": [],
   "source": [
    "data.drop(features,1,inplace=True)"
   ]
  },
  {
   "cell_type": "code",
   "execution_count": 89,
   "metadata": {},
   "outputs": [
    {
     "data": {
      "text/plain": [
       "Index(['ID', 'location', 'target', 'newtemp0', 'newprecip0',\n",
       "       'newrel_humidity0', 'newwind_dir0', 'windspeed0', 'atmospherepressure0',\n",
       "       'newtemp1',\n",
       "       ...\n",
       "       'var_wind_spd', 'median_wind_spd', 'ptp_wind_spd', 'max_atmos_press',\n",
       "       'min_atmos_press', 'mean_atmos_press', 'std_atmos_press',\n",
       "       'var_atmos_press', 'median_atmos_press', 'ptp_atmos_press'],\n",
       "      dtype='object', length=771)"
      ]
     },
     "execution_count": 89,
     "metadata": {},
     "output_type": "execute_result"
    }
   ],
   "source": [
    "data.columns"
   ]
  },
  {
   "cell_type": "code",
   "execution_count": 90,
   "metadata": {},
   "outputs": [
    {
     "data": {
      "text/plain": [
       "88"
      ]
     },
     "execution_count": 90,
     "metadata": {},
     "output_type": "execute_result"
    }
   ],
   "source": [
    "train=data[data.target.notnull()].reset_index(drop=True)\n",
    "test=data[data.target.isna()].reset_index(drop=True)\n",
    "del data  \n",
    "gc.collect()"
   ]
  },
  {
   "cell_type": "code",
   "execution_count": 91,
   "metadata": {},
   "outputs": [],
   "source": [
    "ROOT=\"/Users/kkalyan/github/airQo/data/\""
   ]
  },
  {
   "cell_type": "code",
   "execution_count": 92,
   "metadata": {},
   "outputs": [],
   "source": [
    "train.to_csv(ROOT+\"train-proc-v2.csv\",index  = False)\n",
    "test.to_csv(ROOT+\"test-proc-v2.csv\",index  = False)"
   ]
  },
  {
   "cell_type": "code",
   "execution_count": null,
   "metadata": {},
   "outputs": [],
   "source": []
  }
 ],
 "metadata": {
  "kernelspec": {
   "display_name": "Python 3",
   "language": "python",
   "name": "python3"
  },
  "language_info": {
   "codemirror_mode": {
    "name": "ipython",
    "version": 3
   },
   "file_extension": ".py",
   "mimetype": "text/x-python",
   "name": "python",
   "nbconvert_exporter": "python",
   "pygments_lexer": "ipython3",
   "version": "3.7.3"
  }
 },
 "nbformat": 4,
 "nbformat_minor": 2
}
