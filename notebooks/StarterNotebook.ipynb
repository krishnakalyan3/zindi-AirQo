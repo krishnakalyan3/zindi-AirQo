{
 "cells": [
  {
   "cell_type": "code",
   "execution_count": null,
   "metadata": {
    "colab": {},
    "colab_type": "code",
    "id": "lygrd_4THhsP"
   },
   "outputs": [],
   "source": [
    "import pandas as pd \n",
    "import numpy as np \n",
    "from tqdm import tqdm\n",
    "import math\n",
    "import gc"
   ]
  },
  {
   "cell_type": "code",
   "execution_count": null,
   "metadata": {
    "colab": {},
    "colab_type": "code",
    "id": "laCuoZYCHhsW"
   },
   "outputs": [],
   "source": [
    "# ! cp data/Train_target.csv ./raw_data/Train_target.csv\n",
    "# ! cp data/Test_target.csv ./raw_data/Test_target.csv"
   ]
  },
  {
   "cell_type": "code",
   "execution_count": null,
   "metadata": {
    "colab": {},
    "colab_type": "code",
    "id": "tRthNH90Hhsa"
   },
   "outputs": [],
   "source": [
    "train=pd.read_csv(\"./raw_data/Train.csv\")\n",
    "test=pd.read_csv(\"./raw_data/Test.csv\")"
   ]
  },
  {
   "cell_type": "code",
   "execution_count": null,
   "metadata": {
    "colab": {},
    "colab_type": "code",
    "id": "j_1ClVwsHhsf",
    "outputId": "b4e24efd-edc5-4b18-c41f-edce7df93648"
   },
   "outputs": [
    {
     "data": {
      "text/html": [
       "<div>\n",
       "<style scoped>\n",
       "    .dataframe tbody tr th:only-of-type {\n",
       "        vertical-align: middle;\n",
       "    }\n",
       "\n",
       "    .dataframe tbody tr th {\n",
       "        vertical-align: top;\n",
       "    }\n",
       "\n",
       "    .dataframe thead th {\n",
       "        text-align: right;\n",
       "    }\n",
       "</style>\n",
       "<table border=\"1\" class=\"dataframe\">\n",
       "  <thead>\n",
       "    <tr style=\"text-align: right;\">\n",
       "      <th></th>\n",
       "      <th>ID</th>\n",
       "      <th>temp</th>\n",
       "      <th>precip</th>\n",
       "      <th>rel_humidity</th>\n",
       "      <th>wind_dir</th>\n",
       "      <th>wind_spd</th>\n",
       "      <th>atmos_press</th>\n",
       "      <th>target</th>\n",
       "    </tr>\n",
       "  </thead>\n",
       "  <tbody>\n",
       "    <tr>\n",
       "      <th>0</th>\n",
       "      <td>ID_train_0</td>\n",
       "      <td>nan,nan,nan,nan,nan,nan,nan,nan,nan,nan,nan,na...</td>\n",
       "      <td>nan,nan,nan,nan,nan,nan,nan,nan,nan,nan,nan,na...</td>\n",
       "      <td>nan,nan,nan,nan,nan,nan,nan,nan,nan,nan,nan,na...</td>\n",
       "      <td>nan,nan,nan,nan,nan,nan,nan,nan,nan,nan,nan,na...</td>\n",
       "      <td>nan,nan,nan,nan,nan,nan,nan,nan,nan,nan,nan,na...</td>\n",
       "      <td>nan,nan,nan,nan,nan,nan,nan,nan,nan,nan,nan,na...</td>\n",
       "      <td>45.126304</td>\n",
       "    </tr>\n",
       "    <tr>\n",
       "      <th>1</th>\n",
       "      <td>ID_train_1</td>\n",
       "      <td>22.53333333,21.71666667,20.83333333,20.9833333...</td>\n",
       "      <td>0.102,0.0,0.0,0.0,0.0,0.0,0.0,0.034,0.017,0.01...</td>\n",
       "      <td>0.744583333,0.808083333,0.911166667,0.91633333...</td>\n",
       "      <td>281.6643101,89.15629262,81.96853891,291.018632...</td>\n",
       "      <td>2.3775,1.126666667,0.700833333,0.3416666670000...</td>\n",
       "      <td>90.32,90.3775,90.44083333,90.4725,90.45416667,...</td>\n",
       "      <td>79.131702</td>\n",
       "    </tr>\n",
       "    <tr>\n",
       "      <th>2</th>\n",
       "      <td>ID_train_2</td>\n",
       "      <td>19.925,20.175,19.80833333,19.01666667,18.9,18....</td>\n",
       "      <td>0.0,0.0,0.0,0.0,0.0,0.0,0.0,0.0,0.0,0.17,2.672...</td>\n",
       "      <td>0.8705,0.853166667,0.872583333,0.909833333,0.9...</td>\n",
       "      <td>324.7549438000001,332.3048201000001,334.919219...</td>\n",
       "      <td>0.3575,0.5408333329999999,0.4575,0.29,0.421666...</td>\n",
       "      <td>90.235,90.16916667,90.14583333,90.1675,90.1966...</td>\n",
       "      <td>17.843617</td>\n",
       "    </tr>\n",
       "    <tr>\n",
       "      <th>3</th>\n",
       "      <td>ID_train_3</td>\n",
       "      <td>22.0,22.1,22.89166667,25.025,26.61666667,27.81...</td>\n",
       "      <td>0.0,0.0,0.0,0.0,0.0,0.0,0.0,0.0,0.0,0.0,0.0,0....</td>\n",
       "      <td>0.7695833329999999,0.805916667,0.820666667,0.7...</td>\n",
       "      <td>136.68904750000002,167.78478230000005,175.8326...</td>\n",
       "      <td>2.0133333330000003,0.769166667,0.545,0.7891666...</td>\n",
       "      <td>88.35,88.39416667,88.44833333,88.49916667,88.5...</td>\n",
       "      <td>39.953636</td>\n",
       "    </tr>\n",
       "    <tr>\n",
       "      <th>4</th>\n",
       "      <td>ID_train_4</td>\n",
       "      <td>nan,nan,nan,nan,nan,nan,nan,nan,nan,nan,nan,na...</td>\n",
       "      <td>nan,nan,nan,nan,nan,nan,nan,nan,nan,nan,nan,na...</td>\n",
       "      <td>nan,nan,nan,nan,nan,nan,nan,nan,nan,nan,nan,na...</td>\n",
       "      <td>nan,nan,nan,nan,nan,nan,nan,nan,nan,nan,nan,na...</td>\n",
       "      <td>nan,nan,nan,nan,nan,nan,nan,nan,nan,nan,nan,na...</td>\n",
       "      <td>nan,nan,nan,nan,nan,nan,nan,nan,nan,nan,nan,na...</td>\n",
       "      <td>48.184474</td>\n",
       "    </tr>\n",
       "  </tbody>\n",
       "</table>\n",
       "</div>"
      ],
      "text/plain": [
       "           ID                                               temp  \\\n",
       "0  ID_train_0  nan,nan,nan,nan,nan,nan,nan,nan,nan,nan,nan,na...   \n",
       "1  ID_train_1  22.53333333,21.71666667,20.83333333,20.9833333...   \n",
       "2  ID_train_2  19.925,20.175,19.80833333,19.01666667,18.9,18....   \n",
       "3  ID_train_3  22.0,22.1,22.89166667,25.025,26.61666667,27.81...   \n",
       "4  ID_train_4  nan,nan,nan,nan,nan,nan,nan,nan,nan,nan,nan,na...   \n",
       "\n",
       "                                              precip  \\\n",
       "0  nan,nan,nan,nan,nan,nan,nan,nan,nan,nan,nan,na...   \n",
       "1  0.102,0.0,0.0,0.0,0.0,0.0,0.0,0.034,0.017,0.01...   \n",
       "2  0.0,0.0,0.0,0.0,0.0,0.0,0.0,0.0,0.0,0.17,2.672...   \n",
       "3  0.0,0.0,0.0,0.0,0.0,0.0,0.0,0.0,0.0,0.0,0.0,0....   \n",
       "4  nan,nan,nan,nan,nan,nan,nan,nan,nan,nan,nan,na...   \n",
       "\n",
       "                                        rel_humidity  \\\n",
       "0  nan,nan,nan,nan,nan,nan,nan,nan,nan,nan,nan,na...   \n",
       "1  0.744583333,0.808083333,0.911166667,0.91633333...   \n",
       "2  0.8705,0.853166667,0.872583333,0.909833333,0.9...   \n",
       "3  0.7695833329999999,0.805916667,0.820666667,0.7...   \n",
       "4  nan,nan,nan,nan,nan,nan,nan,nan,nan,nan,nan,na...   \n",
       "\n",
       "                                            wind_dir  \\\n",
       "0  nan,nan,nan,nan,nan,nan,nan,nan,nan,nan,nan,na...   \n",
       "1  281.6643101,89.15629262,81.96853891,291.018632...   \n",
       "2  324.7549438000001,332.3048201000001,334.919219...   \n",
       "3  136.68904750000002,167.78478230000005,175.8326...   \n",
       "4  nan,nan,nan,nan,nan,nan,nan,nan,nan,nan,nan,na...   \n",
       "\n",
       "                                            wind_spd  \\\n",
       "0  nan,nan,nan,nan,nan,nan,nan,nan,nan,nan,nan,na...   \n",
       "1  2.3775,1.126666667,0.700833333,0.3416666670000...   \n",
       "2  0.3575,0.5408333329999999,0.4575,0.29,0.421666...   \n",
       "3  2.0133333330000003,0.769166667,0.545,0.7891666...   \n",
       "4  nan,nan,nan,nan,nan,nan,nan,nan,nan,nan,nan,na...   \n",
       "\n",
       "                                         atmos_press     target  \n",
       "0  nan,nan,nan,nan,nan,nan,nan,nan,nan,nan,nan,na...  45.126304  \n",
       "1  90.32,90.3775,90.44083333,90.4725,90.45416667,...  79.131702  \n",
       "2  90.235,90.16916667,90.14583333,90.1675,90.1966...  17.843617  \n",
       "3  88.35,88.39416667,88.44833333,88.49916667,88.5...  39.953636  \n",
       "4  nan,nan,nan,nan,nan,nan,nan,nan,nan,nan,nan,na...  48.184474  "
      ]
     },
     "execution_count": 4,
     "metadata": {
      "tags": []
     },
     "output_type": "execute_result"
    }
   ],
   "source": [
    "train.head()"
   ]
  },
  {
   "cell_type": "code",
   "execution_count": null,
   "metadata": {
    "colab": {},
    "colab_type": "code",
    "id": "Cz6jfBntHhsl",
    "outputId": "62c95e17-53ba-4628-de6f-d441036b23de"
   },
   "outputs": [
    {
     "data": {
      "text/html": [
       "<div>\n",
       "<style scoped>\n",
       "    .dataframe tbody tr th:only-of-type {\n",
       "        vertical-align: middle;\n",
       "    }\n",
       "\n",
       "    .dataframe tbody tr th {\n",
       "        vertical-align: top;\n",
       "    }\n",
       "\n",
       "    .dataframe thead th {\n",
       "        text-align: right;\n",
       "    }\n",
       "</style>\n",
       "<table border=\"1\" class=\"dataframe\">\n",
       "  <thead>\n",
       "    <tr style=\"text-align: right;\">\n",
       "      <th></th>\n",
       "      <th>ID</th>\n",
       "      <th>temp</th>\n",
       "      <th>precip</th>\n",
       "      <th>rel_humidity</th>\n",
       "      <th>wind_dir</th>\n",
       "      <th>wind_spd</th>\n",
       "      <th>atmos_press</th>\n",
       "    </tr>\n",
       "  </thead>\n",
       "  <tbody>\n",
       "    <tr>\n",
       "      <th>0</th>\n",
       "      <td>ID_test_0</td>\n",
       "      <td>23.96666667,22.88333333,22.28333333,21.4833333...</td>\n",
       "      <td>0.0,0.0,0.0,0.0,0.0,0.0,0.0,0.0,0.0,0.0,0.0,0....</td>\n",
       "      <td>0.6898333329999999,0.722333333,0.7755833329999...</td>\n",
       "      <td>290.1352379,328.47011289999995,323.5730796,282...</td>\n",
       "      <td>0.6333333329999999,0.725,0.955,0.8725,0.6925,0...</td>\n",
       "      <td>87.64333333,87.67,87.70583333,87.75083333,87.7...</td>\n",
       "    </tr>\n",
       "    <tr>\n",
       "      <th>1</th>\n",
       "      <td>ID_test_1</td>\n",
       "      <td>18.99166667,19.70833333,20.95833333,22.7833333...</td>\n",
       "      <td>0.0,0.0,0.0,0.0,0.0,0.0,0.0,0.0,0.0,0.0,0.0,0....</td>\n",
       "      <td>0.99975,0.99725,0.956333333,0.851583333,0.7775...</td>\n",
       "      <td>295.2350543,307.6569135,313.7360236,311.518385...</td>\n",
       "      <td>0.640833333,1.244166667,1.284166667,1.2875,1.3...</td>\n",
       "      <td>87.8925,87.95666667,87.9925,87.9925,87.9808333...</td>\n",
       "    </tr>\n",
       "    <tr>\n",
       "      <th>2</th>\n",
       "      <td>ID_test_2</td>\n",
       "      <td>22.95833333,22.425,21.99166667,22.25,22.383333...</td>\n",
       "      <td>0.0,0.0,0.0,0.0,0.0,0.0,0.0,0.0,0.0,0.0,2.261,...</td>\n",
       "      <td>0.661666667,0.725833333,0.779166667,0.79,0.781...</td>\n",
       "      <td>50.2376038,36.60667381,28.92992755,34.52953038...</td>\n",
       "      <td>0.591666667,0.5975,1.041666667,0.885833333,0.8...</td>\n",
       "      <td>88.39083333,88.4675,88.5575,88.6125,88.6158333...</td>\n",
       "    </tr>\n",
       "    <tr>\n",
       "      <th>3</th>\n",
       "      <td>ID_test_3</td>\n",
       "      <td>20.4,19.60833333,19.72727273,19.14166667,18.8,...</td>\n",
       "      <td>0.0,0.0,0.0,0.0,0.0,0.0,0.0,0.0,0.0,0.0,0.0,0....</td>\n",
       "      <td>0.87,0.900833333,0.8909090909999999,0.91083333...</td>\n",
       "      <td>290.8998339,239.2136975,263.7701038,22.1139246...</td>\n",
       "      <td>0.413333333,0.3725,0.388181818,0.455833333,0.4...</td>\n",
       "      <td>90.44333333,90.42,90.38272727,90.39583333,90.4...</td>\n",
       "    </tr>\n",
       "    <tr>\n",
       "      <th>4</th>\n",
       "      <td>ID_test_4</td>\n",
       "      <td>25.40833333,24.25,23.34166667,22.925,22.358333...</td>\n",
       "      <td>0.0,0.0,0.0,0.0,0.0,0.0,0.0,0.0,0.0,0.0,0.0,0....</td>\n",
       "      <td>0.651666667,0.701666667,0.744166667,0.75833333...</td>\n",
       "      <td>3.77995899,0.272337051,8.849829612,352.3191235...</td>\n",
       "      <td>0.980833333,1.180833333,0.948333333,0.8375,1.0...</td>\n",
       "      <td>88.1925,88.21083333,88.28416667,88.35916667,88...</td>\n",
       "    </tr>\n",
       "  </tbody>\n",
       "</table>\n",
       "</div>"
      ],
      "text/plain": [
       "          ID                                               temp  \\\n",
       "0  ID_test_0  23.96666667,22.88333333,22.28333333,21.4833333...   \n",
       "1  ID_test_1  18.99166667,19.70833333,20.95833333,22.7833333...   \n",
       "2  ID_test_2  22.95833333,22.425,21.99166667,22.25,22.383333...   \n",
       "3  ID_test_3  20.4,19.60833333,19.72727273,19.14166667,18.8,...   \n",
       "4  ID_test_4  25.40833333,24.25,23.34166667,22.925,22.358333...   \n",
       "\n",
       "                                              precip  \\\n",
       "0  0.0,0.0,0.0,0.0,0.0,0.0,0.0,0.0,0.0,0.0,0.0,0....   \n",
       "1  0.0,0.0,0.0,0.0,0.0,0.0,0.0,0.0,0.0,0.0,0.0,0....   \n",
       "2  0.0,0.0,0.0,0.0,0.0,0.0,0.0,0.0,0.0,0.0,2.261,...   \n",
       "3  0.0,0.0,0.0,0.0,0.0,0.0,0.0,0.0,0.0,0.0,0.0,0....   \n",
       "4  0.0,0.0,0.0,0.0,0.0,0.0,0.0,0.0,0.0,0.0,0.0,0....   \n",
       "\n",
       "                                        rel_humidity  \\\n",
       "0  0.6898333329999999,0.722333333,0.7755833329999...   \n",
       "1  0.99975,0.99725,0.956333333,0.851583333,0.7775...   \n",
       "2  0.661666667,0.725833333,0.779166667,0.79,0.781...   \n",
       "3  0.87,0.900833333,0.8909090909999999,0.91083333...   \n",
       "4  0.651666667,0.701666667,0.744166667,0.75833333...   \n",
       "\n",
       "                                            wind_dir  \\\n",
       "0  290.1352379,328.47011289999995,323.5730796,282...   \n",
       "1  295.2350543,307.6569135,313.7360236,311.518385...   \n",
       "2  50.2376038,36.60667381,28.92992755,34.52953038...   \n",
       "3  290.8998339,239.2136975,263.7701038,22.1139246...   \n",
       "4  3.77995899,0.272337051,8.849829612,352.3191235...   \n",
       "\n",
       "                                            wind_spd  \\\n",
       "0  0.6333333329999999,0.725,0.955,0.8725,0.6925,0...   \n",
       "1  0.640833333,1.244166667,1.284166667,1.2875,1.3...   \n",
       "2  0.591666667,0.5975,1.041666667,0.885833333,0.8...   \n",
       "3  0.413333333,0.3725,0.388181818,0.455833333,0.4...   \n",
       "4  0.980833333,1.180833333,0.948333333,0.8375,1.0...   \n",
       "\n",
       "                                         atmos_press  \n",
       "0  87.64333333,87.67,87.70583333,87.75083333,87.7...  \n",
       "1  87.8925,87.95666667,87.9925,87.9925,87.9808333...  \n",
       "2  88.39083333,88.4675,88.5575,88.6125,88.6158333...  \n",
       "3  90.44333333,90.42,90.38272727,90.39583333,90.4...  \n",
       "4  88.1925,88.21083333,88.28416667,88.35916667,88...  "
      ]
     },
     "execution_count": 5,
     "metadata": {
      "tags": []
     },
     "output_type": "execute_result"
    }
   ],
   "source": [
    "test.head()"
   ]
  },
  {
   "cell_type": "code",
   "execution_count": null,
   "metadata": {
    "colab": {},
    "colab_type": "code",
    "id": "7lskkR2rHhss"
   },
   "outputs": [],
   "source": [
    "# covert features  fron string to List of values \n",
    "def replace_nan(x):\n",
    "    if x==\" \":\n",
    "        return np.nan\n",
    "    else :\n",
    "        return float(x)\n",
    "features=[\"temp\",\"precip\",\"rel_humidity\",\"wind_dir\",\"wind_spd\",\"atmos_press\"]\n",
    "for feature in features : \n",
    "    train[feature]=train[feature].apply(lambda x: [ replace_nan(X) for X in x.replace(\"nan\",\" \").split(\",\")])\n",
    "    test[feature]=test[feature].apply(lambda x: [ replace_nan(X)  for X in x.replace(\"nan\",\" \").split(\",\")])    "
   ]
  },
  {
   "cell_type": "markdown",
   "metadata": {
    "colab_type": "text",
    "id": "mApRDmFGHhsz"
   },
   "source": [
    "### Features engineering part"
   ]
  },
  {
   "cell_type": "code",
   "execution_count": null,
   "metadata": {
    "colab": {},
    "colab_type": "code",
    "id": "sg8-zujFHhs1"
   },
   "outputs": [],
   "source": [
    "def aggregate_features(x,col_name):\n",
    "    x[\"max_\"+col_name]=x[col_name].apply(np.max)\n",
    "    x[\"min_\"+col_name]=x[col_name].apply(np.min)\n",
    "    x[\"mean_\"+col_name]=x[col_name].apply(np.mean)\n",
    "    x[\"std_\"+col_name]=x[col_name].apply(np.std)\n",
    "    x[\"var_\"+col_name]=x[col_name].apply(np.var)\n",
    "    x[\"median_\"+col_name]=x[col_name].apply(np.median)\n",
    "    x[\"ptp_\"+col_name]=x[col_name].apply(np.ptp)\n",
    "    return x  \n",
    "def remove_nan_values(x):\n",
    "    return [e for e in x if not math.isnan(e)]\n"
   ]
  },
  {
   "cell_type": "code",
   "execution_count": null,
   "metadata": {
    "colab": {},
    "colab_type": "code",
    "id": "jSHXJxduHhs6",
    "outputId": "a78e1110-ea42-455e-ea70-4a087668e77d"
   },
   "outputs": [
    {
     "data": {
      "text/plain": [
       "['ID',\n",
       " 'temp',\n",
       " 'precip',\n",
       " 'rel_humidity',\n",
       " 'wind_dir',\n",
       " 'wind_spd',\n",
       " 'atmos_press',\n",
       " 'target']"
      ]
     },
     "execution_count": 8,
     "metadata": {
      "tags": []
     },
     "output_type": "execute_result"
    }
   ],
   "source": [
    "data=pd.concat([train,test],sort=False).reset_index(drop=True)\n",
    "data.columns.tolist()"
   ]
  },
  {
   "cell_type": "code",
   "execution_count": null,
   "metadata": {
    "colab": {},
    "colab_type": "code",
    "id": "1dYviSGeHhs_",
    "outputId": "f7ba50b1-b57d-4e46-e056-f466566b0fe7"
   },
   "outputs": [
    {
     "data": {
      "text/plain": [
       "(20574, 8)"
      ]
     },
     "execution_count": 9,
     "metadata": {
      "tags": []
     },
     "output_type": "execute_result"
    }
   ],
   "source": [
    "data.shape"
   ]
  },
  {
   "cell_type": "code",
   "execution_count": null,
   "metadata": {
    "colab": {},
    "colab_type": "code",
    "id": "cNcORQK-HhtG",
    "outputId": "bf147e49-5615-4933-d52f-a2e40931a972"
   },
   "outputs": [
    {
     "name": "stderr",
     "output_type": "stream",
     "text": [
      "100%|██████████| 6/6 [00:02<00:00,  2.75it/s]\n"
     ]
    }
   ],
   "source": [
    "for col_name in tqdm(features):\n",
    "    data[col_name]=data[col_name].apply(remove_nan_values)"
   ]
  },
  {
   "cell_type": "code",
   "execution_count": null,
   "metadata": {
    "colab": {},
    "colab_type": "code",
    "id": "K9iStUBEHhtO",
    "outputId": "fb11a868-3140-4112-be06-598fdf8e7d44"
   },
   "outputs": [
    {
     "name": "stderr",
     "output_type": "stream",
     "text": [
      "100%|██████████| 6/6 [00:27<00:00,  4.52s/it]\n"
     ]
    }
   ],
   "source": [
    "for col_name in tqdm(features):\n",
    "    data=aggregate_features(data,col_name)"
   ]
  },
  {
   "cell_type": "code",
   "execution_count": null,
   "metadata": {
    "colab": {},
    "colab_type": "code",
    "id": "aiAM7WA3HhtR"
   },
   "outputs": [],
   "source": [
    "data.drop(features,1,inplace=True)"
   ]
  },
  {
   "cell_type": "code",
   "execution_count": null,
   "metadata": {
    "colab": {},
    "colab_type": "code",
    "id": "b-inscoEHhtU"
   },
   "outputs": [],
   "source": [
    "train=data[data.target.notnull()].reset_index(drop=True)\n",
    "test=data[data.target.isna()].reset_index(drop=True)"
   ]
  },
  {
   "cell_type": "code",
   "execution_count": null,
   "metadata": {
    "colab": {},
    "colab_type": "code",
    "id": "j5JqDT3SHhtY",
    "outputId": "1510c23f-5736-48ae-ab11-2cc2cda5a61c"
   },
   "outputs": [
    {
     "data": {
      "text/plain": [
       "0"
      ]
     },
     "execution_count": 14,
     "metadata": {
      "tags": []
     },
     "output_type": "execute_result"
    }
   ],
   "source": [
    "del data  \n",
    "gc.collect()"
   ]
  },
  {
   "cell_type": "code",
   "execution_count": null,
   "metadata": {
    "colab": {},
    "colab_type": "code",
    "id": "h_m0qW-3Hhtb",
    "outputId": "54b37955-8ff1-4464-8274-9e24d7c58f75"
   },
   "outputs": [
    {
     "data": {
      "text/html": [
       "<div>\n",
       "<style scoped>\n",
       "    .dataframe tbody tr th:only-of-type {\n",
       "        vertical-align: middle;\n",
       "    }\n",
       "\n",
       "    .dataframe tbody tr th {\n",
       "        vertical-align: top;\n",
       "    }\n",
       "\n",
       "    .dataframe thead th {\n",
       "        text-align: right;\n",
       "    }\n",
       "</style>\n",
       "<table border=\"1\" class=\"dataframe\">\n",
       "  <thead>\n",
       "    <tr style=\"text-align: right;\">\n",
       "      <th></th>\n",
       "      <th>ID</th>\n",
       "      <th>target</th>\n",
       "      <th>max_temp</th>\n",
       "      <th>min_temp</th>\n",
       "      <th>mean_temp</th>\n",
       "      <th>std_temp</th>\n",
       "      <th>var_temp</th>\n",
       "      <th>median_temp</th>\n",
       "      <th>ptp_temp</th>\n",
       "      <th>max_precip</th>\n",
       "      <th>...</th>\n",
       "      <th>var_wind_spd</th>\n",
       "      <th>median_wind_spd</th>\n",
       "      <th>ptp_wind_spd</th>\n",
       "      <th>max_atmos_press</th>\n",
       "      <th>min_atmos_press</th>\n",
       "      <th>mean_atmos_press</th>\n",
       "      <th>std_atmos_press</th>\n",
       "      <th>var_atmos_press</th>\n",
       "      <th>median_atmos_press</th>\n",
       "      <th>ptp_atmos_press</th>\n",
       "    </tr>\n",
       "  </thead>\n",
       "  <tbody>\n",
       "    <tr>\n",
       "      <th>0</th>\n",
       "      <td>ID_train_0</td>\n",
       "      <td>45.126304</td>\n",
       "      <td>27.208333</td>\n",
       "      <td>19.275000</td>\n",
       "      <td>22.299527</td>\n",
       "      <td>2.594011</td>\n",
       "      <td>6.728895</td>\n",
       "      <td>21.358333</td>\n",
       "      <td>7.933333</td>\n",
       "      <td>0.000</td>\n",
       "      <td>...</td>\n",
       "      <td>0.155268</td>\n",
       "      <td>0.666250</td>\n",
       "      <td>1.355000</td>\n",
       "      <td>87.871667</td>\n",
       "      <td>87.614167</td>\n",
       "      <td>87.752434</td>\n",
       "      <td>0.070374</td>\n",
       "      <td>0.004952</td>\n",
       "      <td>87.762083</td>\n",
       "      <td>0.257500</td>\n",
       "    </tr>\n",
       "    <tr>\n",
       "      <th>1</th>\n",
       "      <td>ID_train_1</td>\n",
       "      <td>79.131702</td>\n",
       "      <td>33.616667</td>\n",
       "      <td>17.983333</td>\n",
       "      <td>24.679063</td>\n",
       "      <td>4.266955</td>\n",
       "      <td>18.206903</td>\n",
       "      <td>23.791667</td>\n",
       "      <td>15.633333</td>\n",
       "      <td>0.561</td>\n",
       "      <td>...</td>\n",
       "      <td>0.290736</td>\n",
       "      <td>0.744167</td>\n",
       "      <td>2.760833</td>\n",
       "      <td>90.725000</td>\n",
       "      <td>90.056667</td>\n",
       "      <td>90.429924</td>\n",
       "      <td>0.156000</td>\n",
       "      <td>0.024336</td>\n",
       "      <td>90.429167</td>\n",
       "      <td>0.668333</td>\n",
       "    </tr>\n",
       "    <tr>\n",
       "      <th>2</th>\n",
       "      <td>ID_train_2</td>\n",
       "      <td>17.843617</td>\n",
       "      <td>30.516667</td>\n",
       "      <td>17.425000</td>\n",
       "      <td>22.134642</td>\n",
       "      <td>3.128963</td>\n",
       "      <td>9.790409</td>\n",
       "      <td>20.900000</td>\n",
       "      <td>13.091667</td>\n",
       "      <td>10.613</td>\n",
       "      <td>...</td>\n",
       "      <td>0.222724</td>\n",
       "      <td>0.658333</td>\n",
       "      <td>2.388333</td>\n",
       "      <td>90.673333</td>\n",
       "      <td>89.980000</td>\n",
       "      <td>90.344070</td>\n",
       "      <td>0.161495</td>\n",
       "      <td>0.026081</td>\n",
       "      <td>90.342500</td>\n",
       "      <td>0.693333</td>\n",
       "    </tr>\n",
       "    <tr>\n",
       "      <th>3</th>\n",
       "      <td>ID_train_3</td>\n",
       "      <td>39.953636</td>\n",
       "      <td>29.375000</td>\n",
       "      <td>20.191667</td>\n",
       "      <td>24.350413</td>\n",
       "      <td>2.706378</td>\n",
       "      <td>7.324482</td>\n",
       "      <td>23.750000</td>\n",
       "      <td>9.183333</td>\n",
       "      <td>1.855</td>\n",
       "      <td>...</td>\n",
       "      <td>0.698703</td>\n",
       "      <td>1.176667</td>\n",
       "      <td>3.179167</td>\n",
       "      <td>88.594167</td>\n",
       "      <td>88.005000</td>\n",
       "      <td>88.308802</td>\n",
       "      <td>0.142505</td>\n",
       "      <td>0.020308</td>\n",
       "      <td>88.302500</td>\n",
       "      <td>0.589167</td>\n",
       "    </tr>\n",
       "    <tr>\n",
       "      <th>4</th>\n",
       "      <td>ID_train_4</td>\n",
       "      <td>48.184474</td>\n",
       "      <td>26.408333</td>\n",
       "      <td>17.275000</td>\n",
       "      <td>20.903070</td>\n",
       "      <td>3.082435</td>\n",
       "      <td>9.501405</td>\n",
       "      <td>20.025000</td>\n",
       "      <td>9.133333</td>\n",
       "      <td>5.272</td>\n",
       "      <td>...</td>\n",
       "      <td>0.474956</td>\n",
       "      <td>1.186667</td>\n",
       "      <td>2.238333</td>\n",
       "      <td>88.740000</td>\n",
       "      <td>88.388333</td>\n",
       "      <td>88.598680</td>\n",
       "      <td>0.102378</td>\n",
       "      <td>0.010481</td>\n",
       "      <td>88.648333</td>\n",
       "      <td>0.351667</td>\n",
       "    </tr>\n",
       "  </tbody>\n",
       "</table>\n",
       "<p>5 rows × 44 columns</p>\n",
       "</div>"
      ],
      "text/plain": [
       "           ID     target   max_temp   min_temp  mean_temp  std_temp  \\\n",
       "0  ID_train_0  45.126304  27.208333  19.275000  22.299527  2.594011   \n",
       "1  ID_train_1  79.131702  33.616667  17.983333  24.679063  4.266955   \n",
       "2  ID_train_2  17.843617  30.516667  17.425000  22.134642  3.128963   \n",
       "3  ID_train_3  39.953636  29.375000  20.191667  24.350413  2.706378   \n",
       "4  ID_train_4  48.184474  26.408333  17.275000  20.903070  3.082435   \n",
       "\n",
       "    var_temp  median_temp   ptp_temp  max_precip  ...  var_wind_spd  \\\n",
       "0   6.728895    21.358333   7.933333       0.000  ...      0.155268   \n",
       "1  18.206903    23.791667  15.633333       0.561  ...      0.290736   \n",
       "2   9.790409    20.900000  13.091667      10.613  ...      0.222724   \n",
       "3   7.324482    23.750000   9.183333       1.855  ...      0.698703   \n",
       "4   9.501405    20.025000   9.133333       5.272  ...      0.474956   \n",
       "\n",
       "   median_wind_spd  ptp_wind_spd  max_atmos_press  min_atmos_press  \\\n",
       "0         0.666250      1.355000        87.871667        87.614167   \n",
       "1         0.744167      2.760833        90.725000        90.056667   \n",
       "2         0.658333      2.388333        90.673333        89.980000   \n",
       "3         1.176667      3.179167        88.594167        88.005000   \n",
       "4         1.186667      2.238333        88.740000        88.388333   \n",
       "\n",
       "   mean_atmos_press  std_atmos_press  var_atmos_press  median_atmos_press  \\\n",
       "0         87.752434         0.070374         0.004952           87.762083   \n",
       "1         90.429924         0.156000         0.024336           90.429167   \n",
       "2         90.344070         0.161495         0.026081           90.342500   \n",
       "3         88.308802         0.142505         0.020308           88.302500   \n",
       "4         88.598680         0.102378         0.010481           88.648333   \n",
       "\n",
       "   ptp_atmos_press  \n",
       "0         0.257500  \n",
       "1         0.668333  \n",
       "2         0.693333  \n",
       "3         0.589167  \n",
       "4         0.351667  \n",
       "\n",
       "[5 rows x 44 columns]"
      ]
     },
     "execution_count": 15,
     "metadata": {
      "tags": []
     },
     "output_type": "execute_result"
    }
   ],
   "source": [
    "train.head()"
   ]
  },
  {
   "cell_type": "code",
   "execution_count": null,
   "metadata": {
    "colab": {},
    "colab_type": "code",
    "id": "Ycw-LMZvHhtf",
    "outputId": "f84c93d8-e19d-48b2-e068-0e7fa306d0b0"
   },
   "outputs": [
    {
     "data": {
      "text/html": [
       "<div>\n",
       "<style scoped>\n",
       "    .dataframe tbody tr th:only-of-type {\n",
       "        vertical-align: middle;\n",
       "    }\n",
       "\n",
       "    .dataframe tbody tr th {\n",
       "        vertical-align: top;\n",
       "    }\n",
       "\n",
       "    .dataframe thead th {\n",
       "        text-align: right;\n",
       "    }\n",
       "</style>\n",
       "<table border=\"1\" class=\"dataframe\">\n",
       "  <thead>\n",
       "    <tr style=\"text-align: right;\">\n",
       "      <th></th>\n",
       "      <th>ID</th>\n",
       "      <th>target</th>\n",
       "      <th>max_temp</th>\n",
       "      <th>min_temp</th>\n",
       "      <th>mean_temp</th>\n",
       "      <th>std_temp</th>\n",
       "      <th>var_temp</th>\n",
       "      <th>median_temp</th>\n",
       "      <th>ptp_temp</th>\n",
       "      <th>max_precip</th>\n",
       "      <th>...</th>\n",
       "      <th>var_wind_spd</th>\n",
       "      <th>median_wind_spd</th>\n",
       "      <th>ptp_wind_spd</th>\n",
       "      <th>max_atmos_press</th>\n",
       "      <th>min_atmos_press</th>\n",
       "      <th>mean_atmos_press</th>\n",
       "      <th>std_atmos_press</th>\n",
       "      <th>var_atmos_press</th>\n",
       "      <th>median_atmos_press</th>\n",
       "      <th>ptp_atmos_press</th>\n",
       "    </tr>\n",
       "  </thead>\n",
       "  <tbody>\n",
       "    <tr>\n",
       "      <th>0</th>\n",
       "      <td>ID_test_0</td>\n",
       "      <td>NaN</td>\n",
       "      <td>26.858333</td>\n",
       "      <td>17.050000</td>\n",
       "      <td>21.389532</td>\n",
       "      <td>2.731833</td>\n",
       "      <td>7.462909</td>\n",
       "      <td>20.908333</td>\n",
       "      <td>9.808333</td>\n",
       "      <td>5.728</td>\n",
       "      <td>...</td>\n",
       "      <td>0.154279</td>\n",
       "      <td>0.767500</td>\n",
       "      <td>1.744167</td>\n",
       "      <td>88.020833</td>\n",
       "      <td>87.474167</td>\n",
       "      <td>87.748506</td>\n",
       "      <td>0.132764</td>\n",
       "      <td>0.017626</td>\n",
       "      <td>87.752500</td>\n",
       "      <td>0.546667</td>\n",
       "    </tr>\n",
       "    <tr>\n",
       "      <th>1</th>\n",
       "      <td>ID_test_1</td>\n",
       "      <td>NaN</td>\n",
       "      <td>26.991667</td>\n",
       "      <td>17.275000</td>\n",
       "      <td>21.302824</td>\n",
       "      <td>2.289268</td>\n",
       "      <td>5.240748</td>\n",
       "      <td>20.716667</td>\n",
       "      <td>9.716667</td>\n",
       "      <td>15.831</td>\n",
       "      <td>...</td>\n",
       "      <td>0.208605</td>\n",
       "      <td>0.771667</td>\n",
       "      <td>1.889167</td>\n",
       "      <td>88.181667</td>\n",
       "      <td>87.572500</td>\n",
       "      <td>87.936963</td>\n",
       "      <td>0.113756</td>\n",
       "      <td>0.012940</td>\n",
       "      <td>87.928333</td>\n",
       "      <td>0.609167</td>\n",
       "    </tr>\n",
       "    <tr>\n",
       "      <th>2</th>\n",
       "      <td>ID_test_2</td>\n",
       "      <td>NaN</td>\n",
       "      <td>26.275000</td>\n",
       "      <td>17.716667</td>\n",
       "      <td>21.222796</td>\n",
       "      <td>2.306016</td>\n",
       "      <td>5.317712</td>\n",
       "      <td>20.866667</td>\n",
       "      <td>8.558333</td>\n",
       "      <td>10.182</td>\n",
       "      <td>...</td>\n",
       "      <td>0.611310</td>\n",
       "      <td>1.251667</td>\n",
       "      <td>3.715833</td>\n",
       "      <td>88.828333</td>\n",
       "      <td>88.209167</td>\n",
       "      <td>88.552121</td>\n",
       "      <td>0.137730</td>\n",
       "      <td>0.018970</td>\n",
       "      <td>88.569167</td>\n",
       "      <td>0.619167</td>\n",
       "    </tr>\n",
       "    <tr>\n",
       "      <th>3</th>\n",
       "      <td>ID_test_3</td>\n",
       "      <td>NaN</td>\n",
       "      <td>32.158333</td>\n",
       "      <td>16.518182</td>\n",
       "      <td>23.775789</td>\n",
       "      <td>4.814416</td>\n",
       "      <td>23.178597</td>\n",
       "      <td>23.908333</td>\n",
       "      <td>15.640152</td>\n",
       "      <td>0.034</td>\n",
       "      <td>...</td>\n",
       "      <td>0.398989</td>\n",
       "      <td>0.825000</td>\n",
       "      <td>2.845000</td>\n",
       "      <td>90.735000</td>\n",
       "      <td>90.063636</td>\n",
       "      <td>90.385693</td>\n",
       "      <td>0.152016</td>\n",
       "      <td>0.023109</td>\n",
       "      <td>90.410833</td>\n",
       "      <td>0.671364</td>\n",
       "    </tr>\n",
       "    <tr>\n",
       "      <th>4</th>\n",
       "      <td>ID_test_4</td>\n",
       "      <td>NaN</td>\n",
       "      <td>29.850000</td>\n",
       "      <td>18.700000</td>\n",
       "      <td>24.111019</td>\n",
       "      <td>3.229632</td>\n",
       "      <td>10.430520</td>\n",
       "      <td>23.666667</td>\n",
       "      <td>11.150000</td>\n",
       "      <td>0.748</td>\n",
       "      <td>...</td>\n",
       "      <td>0.395182</td>\n",
       "      <td>1.685000</td>\n",
       "      <td>2.590833</td>\n",
       "      <td>88.615833</td>\n",
       "      <td>88.053333</td>\n",
       "      <td>88.345193</td>\n",
       "      <td>0.134188</td>\n",
       "      <td>0.018006</td>\n",
       "      <td>88.360833</td>\n",
       "      <td>0.562500</td>\n",
       "    </tr>\n",
       "  </tbody>\n",
       "</table>\n",
       "<p>5 rows × 44 columns</p>\n",
       "</div>"
      ],
      "text/plain": [
       "          ID  target   max_temp   min_temp  mean_temp  std_temp   var_temp  \\\n",
       "0  ID_test_0     NaN  26.858333  17.050000  21.389532  2.731833   7.462909   \n",
       "1  ID_test_1     NaN  26.991667  17.275000  21.302824  2.289268   5.240748   \n",
       "2  ID_test_2     NaN  26.275000  17.716667  21.222796  2.306016   5.317712   \n",
       "3  ID_test_3     NaN  32.158333  16.518182  23.775789  4.814416  23.178597   \n",
       "4  ID_test_4     NaN  29.850000  18.700000  24.111019  3.229632  10.430520   \n",
       "\n",
       "   median_temp   ptp_temp  max_precip  ...  var_wind_spd  median_wind_spd  \\\n",
       "0    20.908333   9.808333       5.728  ...      0.154279         0.767500   \n",
       "1    20.716667   9.716667      15.831  ...      0.208605         0.771667   \n",
       "2    20.866667   8.558333      10.182  ...      0.611310         1.251667   \n",
       "3    23.908333  15.640152       0.034  ...      0.398989         0.825000   \n",
       "4    23.666667  11.150000       0.748  ...      0.395182         1.685000   \n",
       "\n",
       "   ptp_wind_spd  max_atmos_press  min_atmos_press  mean_atmos_press  \\\n",
       "0      1.744167        88.020833        87.474167         87.748506   \n",
       "1      1.889167        88.181667        87.572500         87.936963   \n",
       "2      3.715833        88.828333        88.209167         88.552121   \n",
       "3      2.845000        90.735000        90.063636         90.385693   \n",
       "4      2.590833        88.615833        88.053333         88.345193   \n",
       "\n",
       "   std_atmos_press  var_atmos_press  median_atmos_press  ptp_atmos_press  \n",
       "0         0.132764         0.017626           87.752500         0.546667  \n",
       "1         0.113756         0.012940           87.928333         0.609167  \n",
       "2         0.137730         0.018970           88.569167         0.619167  \n",
       "3         0.152016         0.023109           90.410833         0.671364  \n",
       "4         0.134188         0.018006           88.360833         0.562500  \n",
       "\n",
       "[5 rows x 44 columns]"
      ]
     },
     "execution_count": 16,
     "metadata": {
      "tags": []
     },
     "output_type": "execute_result"
    }
   ],
   "source": [
    "test.head()"
   ]
  },
  {
   "cell_type": "markdown",
   "metadata": {
    "colab_type": "text",
    "id": "zIprGUC2Hhtj"
   },
   "source": [
    "#### Cross validation strategy (Kfold,or simple train test split )"
   ]
  },
  {
   "cell_type": "code",
   "execution_count": null,
   "metadata": {
    "colab": {},
    "colab_type": "code",
    "id": "rXICDSaMHhtk"
   },
   "outputs": [],
   "source": [
    "Experiment_name=\"simple_model\""
   ]
  },
  {
   "cell_type": "code",
   "execution_count": null,
   "metadata": {
    "colab": {},
    "colab_type": "code",
    "id": "uHk6jMhnHhtn"
   },
   "outputs": [],
   "source": [
    "import os\n",
    "os.makedirs(\"proc_data\", exist_ok=True)\n",
    "# os.makedirs(\"model_save/lgbm/{}\".format(Experiment_name), exist_ok=True)\n",
    "# os.makedirs(\"model_save/catboost/{}\".format(Experiment_name), exist_ok=True)\n",
    "# os.makedirs(\"model_save/xgboost/{}\".format(Experiment_name), exist_ok=True)"
   ]
  },
  {
   "cell_type": "code",
   "execution_count": null,
   "metadata": {
    "colab": {},
    "colab_type": "code",
    "id": "lixIzvh8Hhts"
   },
   "outputs": [],
   "source": [
    "try : \n",
    "    folds=pd.read_csv(\"./proc_data/folds_id.csv\")\n",
    "    train=train.merge(folds,on=\"ID\",how=\"left\")\n",
    "    train.fold.nunique()\n",
    "except : \n",
    "    #  you run this cell  only for the first time \n",
    "    from sklearn.model_selection import KFold \n",
    "    kfold=KFold(n_splits=5,shuffle=True,random_state=2020) # change this random_state or all of you will have the same score  :D \n",
    "    train.reset_index(drop=True,inplace=True)\n",
    "    folds=train[[\"ID\"]].copy()\n",
    "    folds[\"fold\"]=0\n",
    "    for fold,(tr_indx,val_ind) in enumerate(kfold.split(folds)) : \n",
    "        folds.loc[val_ind,\"fold\"]=fold\n",
    "    folds.to_csv(\"./proc_data/folds_id.csv\",index=False)\n",
    "    train=train.merge(folds,on=\"ID\",how=\"left\")\n",
    "    \n",
    "    del folds"
   ]
  },
  {
   "cell_type": "markdown",
   "metadata": {
    "colab_type": "text",
    "id": "WOR5662jHhtv"
   },
   "source": [
    "### Model "
   ]
  },
  {
   "cell_type": "markdown",
   "metadata": {
    "colab_type": "text",
    "id": "XwrUm1CIHht0"
   },
   "source": [
    "### Lgbm "
   ]
  },
  {
   "cell_type": "code",
   "execution_count": null,
   "metadata": {
    "colab": {},
    "colab_type": "code",
    "id": "MHYW8QpoHht2",
    "outputId": "dcb4a830-bec1-46f7-bf81-2e10923b76f2"
   },
   "outputs": [
    {
     "data": {
      "text/plain": [
       "Index(['ID', 'target', 'max_temp', 'min_temp', 'mean_temp', 'std_temp',\n",
       "       'var_temp', 'median_temp', 'ptp_temp', 'max_precip', 'min_precip',\n",
       "       'mean_precip', 'std_precip', 'var_precip', 'median_precip',\n",
       "       'ptp_precip', 'max_rel_humidity', 'min_rel_humidity',\n",
       "       'mean_rel_humidity', 'std_rel_humidity', 'var_rel_humidity',\n",
       "       'median_rel_humidity', 'ptp_rel_humidity', 'max_wind_dir',\n",
       "       'min_wind_dir', 'mean_wind_dir', 'std_wind_dir', 'var_wind_dir',\n",
       "       'median_wind_dir', 'ptp_wind_dir', 'max_wind_spd', 'min_wind_spd',\n",
       "       'mean_wind_spd', 'std_wind_spd', 'var_wind_spd', 'median_wind_spd',\n",
       "       'ptp_wind_spd', 'max_atmos_press', 'min_atmos_press',\n",
       "       'mean_atmos_press', 'std_atmos_press', 'var_atmos_press',\n",
       "       'median_atmos_press', 'ptp_atmos_press', 'fold'],\n",
       "      dtype='object')"
      ]
     },
     "execution_count": 20,
     "metadata": {
      "tags": []
     },
     "output_type": "execute_result"
    }
   ],
   "source": [
    "train.columns"
   ]
  },
  {
   "cell_type": "code",
   "execution_count": null,
   "metadata": {
    "colab": {},
    "colab_type": "code",
    "id": "jUldnPG8Hht8",
    "outputId": "872d5564-203d-4ead-b919-02fdf46df62b"
   },
   "outputs": [
    {
     "data": {
      "text/plain": [
       "['max_temp',\n",
       " 'min_temp',\n",
       " 'mean_temp',\n",
       " 'std_temp',\n",
       " 'var_temp',\n",
       " 'median_temp',\n",
       " 'ptp_temp',\n",
       " 'max_precip',\n",
       " 'min_precip',\n",
       " 'mean_precip',\n",
       " 'std_precip',\n",
       " 'var_precip',\n",
       " 'median_precip',\n",
       " 'ptp_precip',\n",
       " 'max_rel_humidity',\n",
       " 'min_rel_humidity',\n",
       " 'mean_rel_humidity',\n",
       " 'std_rel_humidity',\n",
       " 'var_rel_humidity',\n",
       " 'median_rel_humidity',\n",
       " 'ptp_rel_humidity',\n",
       " 'max_wind_dir',\n",
       " 'min_wind_dir',\n",
       " 'mean_wind_dir',\n",
       " 'std_wind_dir',\n",
       " 'var_wind_dir',\n",
       " 'median_wind_dir',\n",
       " 'ptp_wind_dir',\n",
       " 'max_wind_spd',\n",
       " 'min_wind_spd',\n",
       " 'mean_wind_spd',\n",
       " 'std_wind_spd',\n",
       " 'var_wind_spd',\n",
       " 'median_wind_spd',\n",
       " 'ptp_wind_spd',\n",
       " 'max_atmos_press',\n",
       " 'min_atmos_press',\n",
       " 'mean_atmos_press',\n",
       " 'std_atmos_press',\n",
       " 'var_atmos_press',\n",
       " 'median_atmos_press',\n",
       " 'ptp_atmos_press']"
      ]
     },
     "execution_count": 21,
     "metadata": {
      "tags": []
     },
     "output_type": "execute_result"
    }
   ],
   "source": [
    "target_name=\"target\"\n",
    "id_name=\"ID\"\n",
    "features_to_remove=[target_name,id_name,\"fold\"]\n",
    "features=train.columns.tolist()\n",
    "features=[ fea for fea in  features if fea not in features_to_remove  ]\n",
    "features"
   ]
  },
  {
   "cell_type": "code",
   "execution_count": null,
   "metadata": {
    "colab": {},
    "colab_type": "code",
    "id": "gEMsXuSmHhuC"
   },
   "outputs": [],
   "source": [
    "from sklearn.metrics import mean_squared_error\n",
    "def metric(y,x):\n",
    "    return np.sqrt(mean_squared_error(x,y))"
   ]
  },
  {
   "cell_type": "code",
   "execution_count": null,
   "metadata": {
    "colab": {},
    "colab_type": "code",
    "id": "gNZsZC7qHhuH"
   },
   "outputs": [],
   "source": [
    "import lightgbm as lgbm \n",
    "import xgboost as xgb \n",
    "import catboost as cat "
   ]
  },
  {
   "cell_type": "code",
   "execution_count": null,
   "metadata": {
    "colab": {},
    "colab_type": "code",
    "id": "FAlpIJWfHhuK"
   },
   "outputs": [],
   "source": [
    "def train_function(model,train,test,params,other_params,target_name,features,metric):\n",
    "    folds_num=train.fold.nunique()\n",
    "    validation=train[[id_name,\"fold\",target_name]].copy()\n",
    "    validation[\"pred_\"+target_name]=0\n",
    "    sub=test[[id_name]].copy()\n",
    "    \n",
    "    for fold in np.sort(train.fold.unique()):\n",
    "        print(\"#\"*50+\" {} \".format(fold)+\"#\"*50)\n",
    "        os.makedirs(\"model_save/lgbm/{}/{}\".format(Experiment_name,str(int(fold))), exist_ok=True)\n",
    "        X_train=train[train.fold!=fold]\n",
    "        X_val=train[train.fold==fold]\n",
    "        \n",
    "        train_pred,validation_pred,test_pred=model(X_train,X_val,test,params,other_params)\n",
    "        \n",
    "        validation.loc[validation.fold==fold,\"pred_\"+target_name]=validation_pred\n",
    "        sub[target_name]=test_pred/folds_num\n",
    "        train_score=metric(X_train[target_name],train_pred)\n",
    "        val_score=metric(X_val[target_name],validation_pred)\n",
    "        print(\"train score : {} validation score : {}\".format(round(train_score,4),round(val_score,4)))\n",
    "    final_validation_score=metric(validation[target_name],validation[\"pred_\"+target_name])\n",
    "    print(\"final validation score : {}\".format(final_validation_score))\n",
    "        \n",
    "    return sub,validation,final_validation_score\n",
    "\n",
    "def lgbm_model(X_train,X_val,X_test,params,other_params):\n",
    "    dtrain = lgbm.Dataset(data=X_train[features], label=X_train[target_name], feature_name=features)\n",
    "    dval = lgbm.Dataset(data=X_val[\n",
    "    ], label=X_val[target_name], feature_name=features)\n",
    "\n",
    "    model = lgbm.train(\n",
    "        params=params,\n",
    "        train_set=dtrain,\n",
    "        num_boost_round=other_params[\"num_boost_round\"],\n",
    "        valid_sets=(dtrain, dval),\n",
    "        early_stopping_rounds=other_params[\"early_stopping_rounds\"],\n",
    "        verbose_eval=other_params[\"verbose_eval\"],\n",
    "    )        \n",
    "    best_iteration = model.best_iteration\n",
    "    train_pred=model.predict(X_train[features], num_iteration=best_iteration)\n",
    "    validation_pred=model.predict(X_val[features], num_iteration=best_iteration)\n",
    "    test_pred=model.predict(test[features], num_iteration=best_iteration)\n",
    "        \n",
    "    return train_pred,validation_pred,test_pred"
   ]
  },
  {
   "cell_type": "code",
   "execution_count": null,
   "metadata": {
    "colab": {},
    "colab_type": "code",
    "id": "RlU1uASgHhuO"
   },
   "outputs": [],
   "source": [
    "other_params={\"num_boost_round\":50000000,\n",
    "              \"early_stopping_rounds\":50,\n",
    "              \"verbose_eval\":1000,\n",
    "}\n",
    "lgbm_params = {\n",
    "    \"bagging_fraction\": 0.8,\n",
    "    \"bagging_freq\": 2,\n",
    "    \"boosting_type\": \"gbdt\",\n",
    "    \"feature_fraction\": 0.8,\n",
    "    \"learning_rate\": 0.01,\n",
    "    \"max_depth\": 8,\n",
    "    \"num_threads\": 16,\n",
    "    \"objective\": \"regression\",\n",
    "    \"metric\": \"rmse\",\n",
    "    \"seed\": 2020,\n",
    "}"
   ]
  },
  {
   "cell_type": "code",
   "execution_count": null,
   "metadata": {
    "colab": {},
    "colab_type": "code",
    "id": "DTWeEZUZHhuS",
    "outputId": "442cc865-de9f-44da-eb9f-1e9c118964fe"
   },
   "outputs": [
    {
     "name": "stdout",
     "output_type": "stream",
     "text": [
      "################################################## 0 ##################################################\n",
      "Training until validation scores don't improve for 50 rounds\n",
      "[1000]\ttraining's rmse: 26.7605\tvalid_1's rmse: 30.0102\n",
      "[2000]\ttraining's rmse: 23.5337\tvalid_1's rmse: 28.8786\n",
      "[3000]\ttraining's rmse: 21.5216\tvalid_1's rmse: 28.2248\n",
      "[4000]\ttraining's rmse: 20.0069\tvalid_1's rmse: 27.8041\n",
      "[5000]\ttraining's rmse: 18.794\tvalid_1's rmse: 27.5075\n",
      "[6000]\ttraining's rmse: 17.838\tvalid_1's rmse: 27.2689\n",
      "[7000]\ttraining's rmse: 16.9971\tvalid_1's rmse: 27.084\n",
      "Early stopping, best iteration is:\n",
      "[7297]\ttraining's rmse: 16.764\tvalid_1's rmse: 27.0419\n",
      "train score : 16.764 validation score : 27.0419\n",
      "################################################## 1 ##################################################\n",
      "Training until validation scores don't improve for 50 rounds\n",
      "[1000]\ttraining's rmse: 26.6962\tvalid_1's rmse: 31.0372\n",
      "[2000]\ttraining's rmse: 23.51\tvalid_1's rmse: 29.6461\n",
      "[3000]\ttraining's rmse: 21.4729\tvalid_1's rmse: 28.978\n",
      "[4000]\ttraining's rmse: 19.9873\tvalid_1's rmse: 28.5004\n",
      "[5000]\ttraining's rmse: 18.7998\tvalid_1's rmse: 28.1697\n",
      "[6000]\ttraining's rmse: 17.8063\tvalid_1's rmse: 27.9238\n",
      "[7000]\ttraining's rmse: 16.9604\tvalid_1's rmse: 27.7144\n",
      "[8000]\ttraining's rmse: 16.238\tvalid_1's rmse: 27.565\n",
      "Early stopping, best iteration is:\n",
      "[8674]\ttraining's rmse: 15.8034\tvalid_1's rmse: 27.4399\n",
      "train score : 15.8034 validation score : 27.4399\n",
      "################################################## 2 ##################################################\n",
      "Training until validation scores don't improve for 50 rounds\n",
      "[1000]\ttraining's rmse: 26.4515\tvalid_1's rmse: 32.0711\n",
      "[2000]\ttraining's rmse: 23.3208\tvalid_1's rmse: 30.6168\n",
      "[3000]\ttraining's rmse: 21.2464\tvalid_1's rmse: 29.8023\n",
      "[4000]\ttraining's rmse: 19.7348\tvalid_1's rmse: 29.2473\n",
      "[5000]\ttraining's rmse: 18.5535\tvalid_1's rmse: 28.8581\n",
      "[6000]\ttraining's rmse: 17.5953\tvalid_1's rmse: 28.587\n",
      "[7000]\ttraining's rmse: 16.7643\tvalid_1's rmse: 28.3742\n",
      "[8000]\ttraining's rmse: 16.075\tvalid_1's rmse: 28.1814\n",
      "[9000]\ttraining's rmse: 15.451\tvalid_1's rmse: 28.0336\n",
      "Early stopping, best iteration is:\n",
      "[8963]\ttraining's rmse: 15.4712\tvalid_1's rmse: 28.0304\n",
      "train score : 15.4712 validation score : 28.0304\n",
      "################################################## 3 ##################################################\n",
      "Training until validation scores don't improve for 50 rounds\n",
      "[1000]\ttraining's rmse: 26.6967\tvalid_1's rmse: 30.7383\n",
      "[2000]\ttraining's rmse: 23.473\tvalid_1's rmse: 29.3858\n",
      "[3000]\ttraining's rmse: 21.4189\tvalid_1's rmse: 28.6289\n",
      "[4000]\ttraining's rmse: 19.9055\tvalid_1's rmse: 28.1213\n",
      "[5000]\ttraining's rmse: 18.7073\tvalid_1's rmse: 27.8049\n",
      "[6000]\ttraining's rmse: 17.7375\tvalid_1's rmse: 27.5127\n",
      "[7000]\ttraining's rmse: 16.9106\tvalid_1's rmse: 27.2864\n",
      "[8000]\ttraining's rmse: 16.1992\tvalid_1's rmse: 27.1127\n",
      "Early stopping, best iteration is:\n",
      "[8894]\ttraining's rmse: 15.6403\tvalid_1's rmse: 26.9624\n",
      "train score : 15.6403 validation score : 26.9624\n",
      "################################################## 4 ##################################################\n",
      "Training until validation scores don't improve for 50 rounds\n",
      "[1000]\ttraining's rmse: 26.4419\tvalid_1's rmse: 32.8002\n",
      "[2000]\ttraining's rmse: 23.3105\tvalid_1's rmse: 31.6505\n",
      "[3000]\ttraining's rmse: 21.3026\tvalid_1's rmse: 31.1605\n",
      "[4000]\ttraining's rmse: 19.8252\tvalid_1's rmse: 30.8429\n",
      "[5000]\ttraining's rmse: 18.6641\tvalid_1's rmse: 30.6488\n",
      "[6000]\ttraining's rmse: 17.7157\tvalid_1's rmse: 30.4972\n",
      "Early stopping, best iteration is:\n",
      "[6192]\ttraining's rmse: 17.5544\tvalid_1's rmse: 30.462\n",
      "train score : 17.5544 validation score : 30.462\n",
      "final validation score : 28.01704849820482\n"
     ]
    }
   ],
   "source": [
    "sub,validation,score=train_function(model=lgbm_model,\n",
    "                                    train=train,\n",
    "                                    test=test,\n",
    "                                    params=lgbm_params,\n",
    "                                    other_params=other_params,\n",
    "                                    target_name=target_name,\n",
    "                                    features=features,\n",
    "                                    metric=metric)"
   ]
  },
  {
   "cell_type": "code",
   "execution_count": null,
   "metadata": {
    "colab": {},
    "colab_type": "code",
    "id": "X1cYRRTpHhuV"
   },
   "outputs": [],
   "source": [
    "os.makedirs(\"subs\", exist_ok=True)"
   ]
  },
  {
   "cell_type": "code",
   "execution_count": null,
   "metadata": {
    "colab": {},
    "colab_type": "code",
    "id": "G20R-1ixHhuY",
    "outputId": "0d443512-8b77-4fbc-f112-51edeb352ee0"
   },
   "outputs": [
    {
     "data": {
      "text/html": [
       "<div>\n",
       "<style scoped>\n",
       "    .dataframe tbody tr th:only-of-type {\n",
       "        vertical-align: middle;\n",
       "    }\n",
       "\n",
       "    .dataframe tbody tr th {\n",
       "        vertical-align: top;\n",
       "    }\n",
       "\n",
       "    .dataframe thead th {\n",
       "        text-align: right;\n",
       "    }\n",
       "</style>\n",
       "<table border=\"1\" class=\"dataframe\">\n",
       "  <thead>\n",
       "    <tr style=\"text-align: right;\">\n",
       "      <th></th>\n",
       "      <th>ID</th>\n",
       "      <th>target</th>\n",
       "    </tr>\n",
       "  </thead>\n",
       "  <tbody>\n",
       "    <tr>\n",
       "      <th>0</th>\n",
       "      <td>ID_test_0</td>\n",
       "      <td>8.967140</td>\n",
       "    </tr>\n",
       "    <tr>\n",
       "      <th>1</th>\n",
       "      <td>ID_test_1</td>\n",
       "      <td>36.928166</td>\n",
       "    </tr>\n",
       "    <tr>\n",
       "      <th>2</th>\n",
       "      <td>ID_test_2</td>\n",
       "      <td>6.759933</td>\n",
       "    </tr>\n",
       "    <tr>\n",
       "      <th>3</th>\n",
       "      <td>ID_test_3</td>\n",
       "      <td>8.655477</td>\n",
       "    </tr>\n",
       "    <tr>\n",
       "      <th>4</th>\n",
       "      <td>ID_test_4</td>\n",
       "      <td>6.300573</td>\n",
       "    </tr>\n",
       "  </tbody>\n",
       "</table>\n",
       "</div>"
      ],
      "text/plain": [
       "          ID     target\n",
       "0  ID_test_0   8.967140\n",
       "1  ID_test_1  36.928166\n",
       "2  ID_test_2   6.759933\n",
       "3  ID_test_3   8.655477\n",
       "4  ID_test_4   6.300573"
      ]
     },
     "execution_count": 35,
     "metadata": {
      "tags": []
     },
     "output_type": "execute_result"
    }
   ],
   "source": [
    "sub.head()"
   ]
  },
  {
   "cell_type": "code",
   "execution_count": null,
   "metadata": {
    "colab": {},
    "colab_type": "code",
    "id": "B9CAkgdYHhua"
   },
   "outputs": [],
   "source": [
    "sub.to_csv(\"./subs/lgbm_{}.csv\".format(round(score,2)))"
   ]
  }
 ],
 "metadata": {
  "colab": {
   "name": "StarterNotebook.ipynb",
   "provenance": []
  },
  "kernelspec": {
   "display_name": "Python 3",
   "language": "python",
   "name": "python3"
  },
  "language_info": {
   "codemirror_mode": {
    "name": "ipython",
    "version": 3
   },
   "file_extension": ".py",
   "mimetype": "text/x-python",
   "name": "python",
   "nbconvert_exporter": "python",
   "pygments_lexer": "ipython3",
   "version": "3.7.3"
  }
 },
 "nbformat": 4,
 "nbformat_minor": 2
}
